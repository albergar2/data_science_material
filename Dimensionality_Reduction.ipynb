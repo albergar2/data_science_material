{
 "cells": [
  {
   "cell_type": "markdown",
   "metadata": {},
   "source": [
    "# Dimensionality Reduction"
   ]
  },
  {
   "cell_type": "markdown",
   "metadata": {},
   "source": [
    "## 1. Linear Discriminant Analysis (LDA)"
   ]
  },
  {
   "cell_type": "markdown",
   "metadata": {},
   "source": [
    "LDA is a predictive classification technique used when the groups or classes are known in advance before the classification is performed, which is different from decision trees where the classification groups are derived from the execution of the algorithm. It is a technique for predicting the group or class to which an observation belongs from certain features .\n",
    "\n",
    "It is also a method of dimension reduction, given that by taking `n` independent variables from the dataset, the method takes `p <= n` new independent variables that most contribute to the separation of classes from the dependent variable."
   ]
  },
  {
   "cell_type": "code",
   "execution_count": 4,
   "metadata": {},
   "outputs": [
    {
     "name": "stdout",
     "output_type": "stream",
     "text": [
      "Model with n=1 components: Accuracy 0.182 STD(0.027)\n",
      "Model with n=2 components: Accuracy 0.215 STD(0.033)\n",
      "Model with n=3 components: Accuracy 0.245 STD(0.037)\n",
      "Model with n=4 components: Accuracy 0.294 STD(0.043)\n",
      "Model with n=5 components: Accuracy 0.310 STD(0.043)\n",
      "Model with n=6 components: Accuracy 0.305 STD(0.042)\n",
      "Model with n=7 components: Accuracy 0.325 STD(0.046)\n",
      "Model with n=8 components: Accuracy 0.335 STD(0.043)\n",
      "Model with n=9 components: Accuracy 0.327 STD(0.038)\n"
     ]
    },
    {
     "data": {
      "image/png": "[encoded data removed]",
      "text/plain": [
       "<Figure size 432x288 with 1 Axes>"
      ]
     },
     "metadata": {
      "needs_background": "light"
     },
     "output_type": "display_data"
    }
   ],
   "source": [
    "import numpy as np\n",
    "from sklearn.datasets import make_classification\n",
    "from sklearn.model_selection import cross_val_score\n",
    "from sklearn.model_selection import RepeatedStratifiedKFold\n",
    "from sklearn.pipeline import Pipeline\n",
    "from sklearn.discriminant_analysis import LinearDiscriminantAnalysis\n",
    "from sklearn.linear_model import LogisticRegression\n",
    "from matplotlib import pyplot as plt\n",
    "\n",
    "X, y = make_classification(n_samples=1000, n_features=20, n_informative=15, n_redundant=5, random_state=7, n_classes=10)\n",
    "\n",
    "models = dict()\n",
    "for i in range(1,10):\n",
    "    steps = [('lda', LinearDiscriminantAnalysis(n_components=i)), ('m', LogisticRegression())]\n",
    "    models[str(i)] = Pipeline(steps=steps)\n",
    "\n",
    "# evaluate a given model using cross-validation\n",
    "results, names = list(), list()\n",
    "for name, model in models.items():\n",
    "    cv = RepeatedStratifiedKFold(n_splits=10, n_repeats=3, random_state=1)\n",
    "    scores = cross_val_score(model, X, y, scoring='accuracy', cv=cv, n_jobs=-1)  \n",
    "    results.append(scores)\n",
    "    names.append(name)\n",
    "    print('Model with n=%s components: Accuracy %.3f STD(%.3f)' % (name, np.mean(scores), np.std(scores)))\n",
    "\n",
    "plt.boxplot(results, labels=names, showmeans=True)\n",
    "plt.show()"
   ]
  },
  {
   "cell_type": "markdown",
   "metadata": {},
   "source": [
    "## 2. Principal Component Analysis (PCA)"
   ]
  },
  {
   "cell_type": "markdown",
   "metadata": {},
   "source": [
    "PCA is a mathematical process that transforms a set of correlated variables into a set of uncorrelated variables called principal components.\n",
    "\n",
    "The first main component represents the greatest possible amount of variability in the data and each subsequent component explains the remaining variability, the goal being to preserve the variance of the original data."
   ]
  },
  {
   "cell_type": "code",
   "execution_count": 5,
   "metadata": {},
   "outputs": [
    {
     "name": "stdout",
     "output_type": "stream",
     "text": [
      "Model with n=1 components: Accuracy 0.140 STD(0.024)\n",
      "Model with n=2 components: Accuracy 0.147 STD(0.021)\n",
      "Model with n=3 components: Accuracy 0.152 STD(0.023)\n",
      "Model with n=4 components: Accuracy 0.176 STD(0.033)\n",
      "Model with n=5 components: Accuracy 0.171 STD(0.036)\n",
      "Model with n=6 components: Accuracy 0.205 STD(0.039)\n",
      "Model with n=7 components: Accuracy 0.240 STD(0.043)\n",
      "Model with n=8 components: Accuracy 0.263 STD(0.034)\n",
      "Model with n=9 components: Accuracy 0.274 STD(0.035)\n",
      "Model with n=10 components: Accuracy 0.285 STD(0.036)\n",
      "Model with n=11 components: Accuracy 0.287 STD(0.035)\n",
      "Model with n=12 components: Accuracy 0.305 STD(0.037)\n",
      "Model with n=13 components: Accuracy 0.311 STD(0.037)\n",
      "Model with n=14 components: Accuracy 0.306 STD(0.034)\n",
      "Model with n=15 components: Accuracy 0.323 STD(0.039)\n",
      "Model with n=16 components: Accuracy 0.323 STD(0.039)\n",
      "Model with n=17 components: Accuracy 0.323 STD(0.039)\n",
      "Model with n=18 components: Accuracy 0.323 STD(0.039)\n",
      "Model with n=19 components: Accuracy 0.323 STD(0.039)\n",
      "Model with n=20 components: Accuracy 0.323 STD(0.039)\n"
     ]
    },
    {
     "data": {
      "image/png": "[encoded data removed]",
      "text/plain": [
       "<Figure size 432x288 with 1 Axes>"
      ]
     },
     "metadata": {
      "needs_background": "light"
     },
     "output_type": "display_data"
    }
   ],
   "source": [
    "import numpy as np\n",
    "from sklearn.datasets import make_classification\n",
    "from sklearn.model_selection import cross_val_score\n",
    "from sklearn.model_selection import RepeatedStratifiedKFold\n",
    "from sklearn.pipeline import Pipeline\n",
    "from sklearn.decomposition import PCA\n",
    "from sklearn.linear_model import LogisticRegression\n",
    "from matplotlib import pyplot as plt\n",
    "\n",
    "X, y = make_classification(n_samples=1000, n_features=20, n_informative=15, n_redundant=5, random_state=7, n_classes=10)\n",
    "\n",
    "models = dict()\n",
    "for i in range(1,21):\n",
    "    steps = [('pca', PCA(n_components=i)), ('m', LogisticRegression())]\n",
    "    models[str(i)] = Pipeline(steps=steps)\n",
    "\n",
    "# evaluate a given model using cross-validation\n",
    "results, names = list(), list()\n",
    "for name, model in models.items():\n",
    "    cv = RepeatedStratifiedKFold(n_splits=10, n_repeats=3, random_state=1)\n",
    "    scores = cross_val_score(model, X, y, scoring='accuracy', cv=cv, n_jobs=-1)  \n",
    "    results.append(scores)\n",
    "    names.append(name)\n",
    "    print('Model with n=%s components: Accuracy %.3f STD(%.3f)' % (name, np.mean(scores), np.std(scores)))\n",
    "\n",
    "plt.boxplot(results, labels=names, showmeans=True)\n",
    "plt.show()"
   ]
  },
  {
   "cell_type": "markdown",
   "metadata": {},
   "source": [
    "## 3. Singular Value Decomposition (SVD)"
   ]
  },
  {
   "cell_type": "markdown",
   "metadata": {},
   "source": [
    "SVD, could be the most popular technique for dimensionality reduction when there is sparse data (most of the values are zero). \n",
    "\n",
    "Ex: Recommendation systems"
   ]
  },
  {
   "cell_type": "code",
   "execution_count": 6,
   "metadata": {},
   "outputs": [
    {
     "name": "stdout",
     "output_type": "stream",
     "text": [
      "Model with n=1 components: Accuracy 0.140 STD(0.024)\n",
      "Model with n=2 components: Accuracy 0.147 STD(0.021)\n",
      "Model with n=3 components: Accuracy 0.152 STD(0.023)\n",
      "Model with n=4 components: Accuracy 0.177 STD(0.032)\n",
      "Model with n=5 components: Accuracy 0.171 STD(0.036)\n",
      "Model with n=6 components: Accuracy 0.204 STD(0.038)\n",
      "Model with n=7 components: Accuracy 0.236 STD(0.037)\n",
      "Model with n=8 components: Accuracy 0.265 STD(0.035)\n",
      "Model with n=9 components: Accuracy 0.279 STD(0.036)\n",
      "Model with n=10 components: Accuracy 0.288 STD(0.035)\n",
      "Model with n=11 components: Accuracy 0.289 STD(0.034)\n",
      "Model with n=12 components: Accuracy 0.306 STD(0.037)\n",
      "Model with n=13 components: Accuracy 0.309 STD(0.037)\n",
      "Model with n=14 components: Accuracy 0.308 STD(0.033)\n",
      "Model with n=15 components: Accuracy 0.323 STD(0.039)\n",
      "Model with n=16 components: Accuracy 0.323 STD(0.039)\n",
      "Model with n=17 components: Accuracy 0.323 STD(0.039)\n",
      "Model with n=18 components: Accuracy 0.323 STD(0.039)\n",
      "Model with n=19 components: Accuracy 0.323 STD(0.039)\n",
      "Model with n=20 components: Accuracy nan STD(nan)\n"
     ]
    },
    {
     "data": {
      "image/png": "[encoded data removed]",
      "text/plain": [
       "<Figure size 432x288 with 1 Axes>"
      ]
     },
     "metadata": {
      "needs_background": "light"
     },
     "output_type": "display_data"
    }
   ],
   "source": [
    "import numpy as np\n",
    "from sklearn.datasets import make_classification\n",
    "from sklearn.model_selection import cross_val_score\n",
    "from sklearn.model_selection import RepeatedStratifiedKFold\n",
    "from sklearn.pipeline import Pipeline\n",
    "from sklearn.decomposition import TruncatedSVD\n",
    "from sklearn.linear_model import LogisticRegression\n",
    "from matplotlib import pyplot as plt\n",
    "\n",
    "X, y = make_classification(n_samples=1000, n_features=20, n_informative=15, n_redundant=5, random_state=7, n_classes=10)\n",
    "\n",
    "models = dict()\n",
    "for i in range(1,21):\n",
    "    steps = [('pca', TruncatedSVD(n_components=i)), ('m', LogisticRegression())]\n",
    "    models[str(i)] = Pipeline(steps=steps)\n",
    "\n",
    "# evaluate a given model using cross-validation\n",
    "results, names = list(), list()\n",
    "for name, model in models.items():\n",
    "    cv = RepeatedStratifiedKFold(n_splits=10, n_repeats=3, random_state=1)\n",
    "    scores = cross_val_score(model, X, y, scoring='accuracy', cv=cv, n_jobs=-1)  \n",
    "    results.append(scores)\n",
    "    names.append(name)\n",
    "    print('Model with n=%s components: Accuracy %.3f STD(%.3f)' % (name, np.mean(scores), np.std(scores)))\n",
    "\n",
    "plt.boxplot(results, labels=names, showmeans=True)\n",
    "plt.show()"
   ]
  },
  {
   "cell_type": "code",
   "execution_count": null,
   "metadata": {},
   "outputs": [],
   "source": []
  }
 ],
 "metadata": {
  "kernelspec": {
   "display_name": "mebds",
   "language": "python",
   "name": "mebds"
  },
  "language_info": {
   "codemirror_mode": {
    "name": "ipython",
    "version": 3
   },
   "file_extension": ".py",
   "mimetype": "text/x-python",
   "name": "python",
   "nbconvert_exporter": "python",
   "pygments_lexer": "ipython3",
   "version": "3.8.5"
  }
 },
 "nbformat": 4,
 "nbformat_minor": 4
}
