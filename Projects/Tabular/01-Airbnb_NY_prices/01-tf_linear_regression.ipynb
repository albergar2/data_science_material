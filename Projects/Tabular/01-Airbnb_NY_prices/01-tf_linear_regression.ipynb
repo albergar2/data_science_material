{
 "cells": [
  {
   "cell_type": "markdown",
   "metadata": {},
   "source": [
    "# Tensorflow Linear Regression"
   ]
  },
  {
   "cell_type": "markdown",
   "metadata": {},
   "source": [
    "*Course: Machine Learning Projects with TensorFlow 2.0 by Vlad Sebastian Ionescu*"
   ]
  },
  {
   "cell_type": "markdown",
   "metadata": {},
   "source": [
    "## 1. Imports"
   ]
  },
  {
   "cell_type": "code",
   "execution_count": 2,
   "metadata": {},
   "outputs": [
    {
     "name": "stdout",
     "output_type": "stream",
     "text": [
      "2.2.0\n"
     ]
    }
   ],
   "source": [
    "import numpy as np\n",
    "import tensorflow as tf\n",
    "import matplotlib.pyplot as plt\n",
    "\n",
    "print(tf.__version__)"
   ]
  },
  {
   "cell_type": "markdown",
   "metadata": {},
   "source": [
    "## 2. Toy Data"
   ]
  },
  {
   "cell_type": "code",
   "execution_count": 4,
   "metadata": {},
   "outputs": [],
   "source": [
    "np.random.seed(42)\n",
    "tf.random.set_seed(42)"
   ]
  },
  {
   "cell_type": "code",
   "execution_count": 6,
   "metadata": {},
   "outputs": [],
   "source": [
    "n = 100\n",
    "X = np.linspace(0, 50, n)\n",
    "y = np.linspace(0, 50, n)\n",
    "\n",
    "# Adding noise\n",
    "X += np.random.uniform(-10, 10, n)\n",
    "y += np.random.uniform(-10, 10, n)"
   ]
  },
  {
   "cell_type": "code",
   "execution_count": 7,
   "metadata": {},
   "outputs": [
    {
     "data": {
      "image/png": "[encoded data removed]",
      "text/plain": [
       "<Figure size 432x288 with 1 Axes>"
      ]
     },
     "metadata": {
      "needs_background": "light"
     },
     "output_type": "display_data"
    }
   ],
   "source": [
    "plt.scatter(X, y)\n",
    "plt.xlabel('X')\n",
    "plt.ylabel('y')\n",
    "plt.title('Training Data')\n",
    "plt.show()"
   ]
  },
  {
   "cell_type": "markdown",
   "metadata": {},
   "source": [
    "## 3. Linear Model Class"
   ]
  },
  {
   "cell_type": "code",
   "execution_count": 12,
   "metadata": {},
   "outputs": [],
   "source": [
    "class LinearModel:\n",
    "    def __init__(self):\n",
    "        # Initiate weights\n",
    "        # y = W*x + b\n",
    "        self.W = tf.Variable(13.0)\n",
    "        self.b = tf.Variable(4.0)\n",
    "    \n",
    "    def loss(self, y, y_pred):\n",
    "        # Calculate MSE\n",
    "        return tf.reduce_mean(tf.square(y - y_pred))\n",
    "    \n",
    "    def train(self, X, y, lr=0.0001, epochs=20, verbose=True):\n",
    "        def train_step():\n",
    "            with tf.GradientTape() as t: \n",
    "                # Calculate the loss\n",
    "                current_loss = self.loss(y, self.predict(X))\n",
    "            \n",
    "            # Calculate the gradient and update the weights\n",
    "            dW, db = t.gradient(current_loss, [self.W, self.b])\n",
    "            self.W.assign_sub(lr * dW)\n",
    "            self.W.assign_sub(lr * dW)\n",
    "            \n",
    "            return current_loss\n",
    "        \n",
    "        for epoch in range(epochs):\n",
    "            current_loss = train_step \n",
    "            if verbose:\n",
    "                print(f'Epoch {epoch}: Loss {current_loss()}')\n",
    "                \n",
    "    def predict(self, X):\n",
    "        return self.W * X + self.b"
   ]
  },
  {
   "cell_type": "markdown",
   "metadata": {},
   "source": [
    "## 4. Making Predictions"
   ]
  },
  {
   "cell_type": "code",
   "execution_count": 16,
   "metadata": {},
   "outputs": [
    {
     "name": "stdout",
     "output_type": "stream",
     "text": [
      "Epoch 0: Loss 124765.109375\n",
      "Epoch 1: Loss 54609.3203125\n",
      "Epoch 2: Loss 23923.705078125\n",
      "Epoch 3: Loss 10502.0576171875\n",
      "Epoch 4: Loss 4631.533203125\n",
      "Epoch 5: Loss 2063.80859375\n",
      "Epoch 6: Loss 940.7062377929688\n",
      "Epoch 7: Loss 449.4696960449219\n",
      "Epoch 8: Loss 234.6066436767578\n",
      "Epoch 9: Loss 140.62713623046875\n",
      "Epoch 10: Loss 99.52117919921875\n",
      "Epoch 11: Loss 81.5417709350586\n",
      "Epoch 12: Loss 73.67770385742188\n",
      "Epoch 13: Loss 70.23802947998047\n",
      "Epoch 14: Loss 68.7335433959961\n",
      "Epoch 15: Loss 68.07548522949219\n",
      "Epoch 16: Loss 67.78765869140625\n",
      "Epoch 17: Loss 67.66175842285156\n",
      "Epoch 18: Loss 67.60669708251953\n",
      "Epoch 19: Loss 67.58261108398438\n"
     ]
    },
    {
     "data": {
      "text/plain": [
       "<matplotlib.legend.Legend at 0x252dc303f98>"
      ]
     },
     "execution_count": 16,
     "metadata": {},
     "output_type": "execute_result"
    },
    {
     "data": {
      "image/png": "[encoded data removed]",
      "text/plain": [
       "<Figure size 432x288 with 1 Axes>"
      ]
     },
     "metadata": {
      "needs_background": "light"
     },
     "output_type": "display_data"
    }
   ],
   "source": [
    "model = LinearModel()\n",
    "model.train(X, y, epochs=20)\n",
    "plt.scatter(X, y, label='data')\n",
    "plt.plot(X, model.predict(X), 'r-', label='pred')\n",
    "plt.legend()"
   ]
  },
  {
   "cell_type": "code",
   "execution_count": null,
   "metadata": {},
   "outputs": [],
   "source": []
  }
 ],
 "metadata": {
  "kernelspec": {
   "display_name": "Python 3",
   "language": "python",
   "name": "python3"
  },
  "language_info": {
   "codemirror_mode": {
    "name": "ipython",
    "version": 3
   },
   "file_extension": ".py",
   "mimetype": "text/x-python",
   "name": "python",
   "nbconvert_exporter": "python",
   "pygments_lexer": "ipython3",
   "version": "3.7.7"
  },
  "widgets": {
   "application/vnd.jupyter.widget-state+json": {
    "state": {},
    "version_major": 2,
    "version_minor": 0
   }
  }
 },
 "nbformat": 4,
 "nbformat_minor": 4
}
