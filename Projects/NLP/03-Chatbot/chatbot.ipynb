{
 "cells": [
  {
   "cell_type": "markdown",
   "metadata": {
    "colab_type": "text",
    "id": "CyYW7FKKghwW"
   },
   "source": [
    "# Chatbot - GPT2"
   ]
  },
  {
   "cell_type": "markdown",
   "metadata": {
    "colab_type": "text",
    "id": "G2IXc44mgo0n"
   },
   "source": [
    "Tutorial: https://towardsdatascience.com/how-to-train-your-chatbot-with-simple-transformers-da25160859f4"
   ]
  },
  {
   "cell_type": "code",
   "execution_count": 5,
   "metadata": {
    "colab": {
     "base_uri": "https://localhost:8080/",
     "height": 840
    },
    "colab_type": "code",
    "executionInfo": {
     "elapsed": 11533,
     "status": "ok",
     "timestamp": 1596615166233,
     "user": {
      "displayName": "ALBERTO GARCIA HERNANDEZ",
      "photoUrl": "https://lh3.googleusercontent.com/a-/AOh14GiwwJ7bnkN_pQE-FRT229YhkoqqMIlbchaWFnyd=s64",
      "userId": "01724357562024416366"
     },
     "user_tz": -120
    },
    "id": "NizsgDTzgYSj",
    "outputId": "172953d7-4694-469d-d7b5-002def4246c2"
   },
   "outputs": [],
   "source": [
    "import json\n",
    "from simpletransformers.conv_ai import ConvAIModel"
   ]
  },
  {
   "cell_type": "markdown",
   "metadata": {
    "colab_type": "text",
    "id": "fSyGjIM_hB-i"
   },
   "source": [
    "## 1. Load data"
   ]
  },
  {
   "cell_type": "code",
   "execution_count": 8,
   "metadata": {
    "colab": {},
    "colab_type": "code",
    "executionInfo": {
     "elapsed": 8443,
     "status": "ok",
     "timestamp": 1596615613909,
     "user": {
      "displayName": "ALBERTO GARCIA HERNANDEZ",
      "photoUrl": "https://lh3.googleusercontent.com/a-/AOh14GiwwJ7bnkN_pQE-FRT229YhkoqqMIlbchaWFnyd=s64",
      "userId": "01724357562024416366"
     },
     "user_tz": -120
    },
    "id": "e2D-Q95Bi3SN"
   },
   "outputs": [],
   "source": [
    "data_file = 'data/personachat_self_original.json'\n",
    "\n",
    "n_samples = 100\n",
    "\n",
    "with open(data_file, 'r') as f:\n",
    "    data = json.load(f)\n",
    "\n",
    "train_data = data['train'][:n_samples]\n",
    "valid_data = data['valid'][:int(n_samples/5)]\n",
    "\n",
    "with open(\"data/train.json\", \"w\") as f:\n",
    "    json.dump(train_data, f)\n",
    "\n",
    "with open(\"data/valid.json\", \"w\") as f:\n",
    "    json.dump(train_data, f)"
   ]
  },
  {
   "cell_type": "code",
   "execution_count": 9,
   "metadata": {
    "colab": {
     "base_uri": "https://localhost:8080/",
     "height": 1000
    },
    "colab_type": "code",
    "executionInfo": {
     "elapsed": 3960,
     "status": "ok",
     "timestamp": 1596615613912,
     "user": {
      "displayName": "ALBERTO GARCIA HERNANDEZ",
      "photoUrl": "https://lh3.googleusercontent.com/a-/AOh14GiwwJ7bnkN_pQE-FRT229YhkoqqMIlbchaWFnyd=s64",
      "userId": "01724357562024416366"
     },
     "user_tz": -120
    },
    "id": "quPz4xasgnKj",
    "outputId": "591d6537-2516-4432-e8c0-1f46507bbebc"
   },
   "outputs": [
    {
     "data": {
      "text/plain": [
       "{'personality': ['i like to remodel homes .',\n",
       "  'i like to go hunting .',\n",
       "  'i like to shoot a bow .',\n",
       "  'my favorite holiday is halloween .'],\n",
       " 'utterances': [{'candidates': ['my mom was single with 3 boys , so we never left the projects .',\n",
       "    'i try to wear all black every day . it makes me feel comfortable .',\n",
       "    'well nursing stresses you out so i wish luck with sister',\n",
       "    'yeah just want to pick up nba nfl getting old',\n",
       "    'i really like celine dion . what about you ?',\n",
       "    'no . i live near farms .',\n",
       "    \"i wish i had a daughter , i'm a boy mom . they're beautiful boys though still lucky\",\n",
       "    'yeah when i get bored i play gone with the wind my favorite movie .',\n",
       "    \"hi how are you ? i'm eating dinner with my hubby and 2 kids .\",\n",
       "    'were you married to your high school sweetheart ? i was .',\n",
       "    'that is great to hear ! are you a competitive rider ?',\n",
       "    \"hi , i'm doing ok . i'm a banker . how about you ?\",\n",
       "    \"i'm 5 years old\",\n",
       "    'hi there . how are you today ?',\n",
       "    'i totally understand how stressful that can be .',\n",
       "    'yeah sometimes you do not know what you are actually watching',\n",
       "    'mother taught me to cook ! we are looking for an exterminator .',\n",
       "    'i enjoy romantic movie . what is your favorite season ? mine is summer .',\n",
       "    'editing photos takes a lot of work .',\n",
       "    'you must be very fast . hunting is one of my favorite hobbies .'],\n",
       "   'history': [\"hi , how are you doing ? i'm getting ready to do some cheetah chasing to stay in shape .\"]},\n",
       "  {'candidates': ['hello i am doing well how are you ?',\n",
       "    'll something like that . do you play games ?',\n",
       "    'does anything give you relief ? i hate taking medicine for mine .',\n",
       "    'i decorate cakes at a local bakery ! and you ?',\n",
       "    'do you eat lots of meat',\n",
       "    'i am so weird that i like to collect people and cats',\n",
       "    'how are your typing skills ?',\n",
       "    'yeah . i am headed to the gym in a bit to weight lift .',\n",
       "    'yeah you have plenty of time',\n",
       "    'metal is my favorite , but i can accept that people listen to country . haha',\n",
       "    \"that's why you desire to be controlled . let me control you person one .\",\n",
       "    'two dogs they are the best , how about you ?',\n",
       "    'you do art ? what kind of art do you do ?',\n",
       "    'i love watching baseball outdoors on sunny days .',\n",
       "    'oh i see . do you ever think about moving ? i do , it is what i want .',\n",
       "    'sure . i wish it were winter . the sun really hurts my blue eyes .',\n",
       "    'are we pretending to play tennis',\n",
       "    'i am rich and have all of my dreams fulfilled already',\n",
       "    'they tire me so , i probably sleep about 10 hrs a day because of them .',\n",
       "    'i also remodel homes when i am not out bow hunting .'],\n",
       "   'history': [\"hi , how are you doing ? i'm getting ready to do some cheetah chasing to stay in shape .\",\n",
       "    'you must be very fast . hunting is one of my favorite hobbies .',\n",
       "    'i am ! for my hobby i like to do canning or some whittling .']},\n",
       "  {'candidates': ['yes they do but i say no to them lol',\n",
       "    'i have trouble getting along with family .',\n",
       "    'i live in texas , what kind of stuff do you do in toronto ?',\n",
       "    \"that's so unique ! veganism and line dancing usually don't mix !\",\n",
       "    \"no , it isn't that big . do you travel a lot\",\n",
       "    \"that's because they are real ; what do you do for work ?\",\n",
       "    'i am lazy all day lol . my mom wants me to get a job and move out',\n",
       "    'i was born on arbor day , so plant a tree in my name',\n",
       "    'okay , i should not tell you , its against the rules but my name is sarah , call me o',\n",
       "    'hello how are u tonight',\n",
       "    \"cool . . . my parents love country music that's why i hate it\",\n",
       "    'i am an accountant . what do you do ?',\n",
       "    'what do your parents do ? my dad is a mechanic .',\n",
       "    'how are you liking it ?',\n",
       "    'i really am too . great talking to you too .',\n",
       "    'cool . whats it like working there ?',\n",
       "    \"one daughter . she's pre med\",\n",
       "    \"no and all men is taller than me why can't i find a man to dance with\",\n",
       "    'i live in utah , and my family live in england , so i understand',\n",
       "    \"that's awesome . do you have a favorite season or time of year ?\"],\n",
       "   'history': [\"hi , how are you doing ? i'm getting ready to do some cheetah chasing to stay in shape .\",\n",
       "    'you must be very fast . hunting is one of my favorite hobbies .',\n",
       "    'i am ! for my hobby i like to do canning or some whittling .',\n",
       "    'i also remodel homes when i am not out bow hunting .',\n",
       "    \"that's neat . when i was in high school i placed 6th in 100m dash !\"]},\n",
       "  {'candidates': ['not really , it is just a small local radio station . what about you , what do you do ?',\n",
       "    'me too ! people always say i am so organized',\n",
       "    'niagra fall is where our honeymoon will be',\n",
       "    'yes ! i know how to be by myself . you ? i do not need new friends . you ?',\n",
       "    'll . my dad is a police officer and they have a sports team too',\n",
       "    'oh you should get your license',\n",
       "    'okay you have a good day nice talking with you !',\n",
       "    'i play some ball for a living .',\n",
       "    'me too ! my asthma is really embarrassing and makes me uncomfortable around others .',\n",
       "    'netflix and good food is the best . maybe lobster , my favorite seafood . where ya from ?',\n",
       "    'oh nice . why is that ?',\n",
       "    'sounds fun ! i helped my wife with health issues , too .',\n",
       "    \"i am a night owl . i think i'll play the piano a little before bed .\",\n",
       "    'just the real ones , not a big game person',\n",
       "    \"i could be the next mrs . adam levine . please , i'll buy you 10 mangoes .\",\n",
       "    \"do you like dogs i've usually to talk\",\n",
       "    'what did she teach ? my mom stayed home with my and my 3 older siblings',\n",
       "    'neither do i , i am just a photographer , and that is already a ot of energy',\n",
       "    'no , i say i am average at 5 4 . are you vertically challenged ?',\n",
       "    'what is your favorite meat to eat ?'],\n",
       "   'history': [\"hi , how are you doing ? i'm getting ready to do some cheetah chasing to stay in shape .\",\n",
       "    'you must be very fast . hunting is one of my favorite hobbies .',\n",
       "    'i am ! for my hobby i like to do canning or some whittling .',\n",
       "    'i also remodel homes when i am not out bow hunting .',\n",
       "    \"that's neat . when i was in high school i placed 6th in 100m dash !\",\n",
       "    \"that's awesome . do you have a favorite season or time of year ?\",\n",
       "    'i do not . but i do have a favorite meat since that is all i eat exclusively .']},\n",
       "  {'candidates': ['i am listening to system of a down , i wonder if your cat would like them',\n",
       "    'i absolutely agree , women are just as strong and capable .',\n",
       "    'in denmark with my grandma . what about you ?',\n",
       "    'i live in backcountry michigan . i encounter many sick , injured wildlife daily !',\n",
       "    'i am great and you',\n",
       "    'i am a big foodie , i love to bake . how about you ?',\n",
       "    'dance ! ! i win alot of mone and trifies . . what do u do four fun ?',\n",
       "    'do you do any sports ? swimming helps me keep my energy up .',\n",
       "    'they are excellent for the environment .',\n",
       "    'i am going to catch some fish and think this over . thanks dog !',\n",
       "    'i am doing well ! how about you ?',\n",
       "    'i like old cars better new cars are to expensive',\n",
       "    \"i've met bill once . he seems like a nice guy .\",\n",
       "    \"oh that is amazing . i've been trying to find someone who can help him\",\n",
       "    'i am in my early 30s , what you do for living',\n",
       "    'so , you are in college ? i took foreign language in college .',\n",
       "    'i just turned 30 the other day',\n",
       "    'what a coincidence i live up in anchorage',\n",
       "    'that would be interesting . i am going to be a forensic psychologist .',\n",
       "    'i like chicken or macaroni and cheese .'],\n",
       "   'history': [\"hi , how are you doing ? i'm getting ready to do some cheetah chasing to stay in shape .\",\n",
       "    'you must be very fast . hunting is one of my favorite hobbies .',\n",
       "    'i am ! for my hobby i like to do canning or some whittling .',\n",
       "    'i also remodel homes when i am not out bow hunting .',\n",
       "    \"that's neat . when i was in high school i placed 6th in 100m dash !\",\n",
       "    \"that's awesome . do you have a favorite season or time of year ?\",\n",
       "    'i do not . but i do have a favorite meat since that is all i eat exclusively .',\n",
       "    'what is your favorite meat to eat ?',\n",
       "    'i would have to say its prime rib . do you have any favorite foods ?']},\n",
       "  {'candidates': ['that sounds nice . do you make your own ?',\n",
       "    'i had a simple lunch so that i make my supper heavy after beach .',\n",
       "    'nice i may be able to beat you my hair is bright purple',\n",
       "    'not really i am kind of an introvert',\n",
       "    'well currently i am going to the university of chicago to obtain a law degree',\n",
       "    'also , my parents came with me , because they are on a break from teaching !',\n",
       "    'oh , i am sorry . want to come play tennis with my two sisters and me ?',\n",
       "    'wow ! 2 sons . john and wayne . you play guitar good ?',\n",
       "    'what do you do all day then ?',\n",
       "    'i work from home , what about you ?',\n",
       "    'that is no good . have glasses ?',\n",
       "    'just chilling . watching netflix . so what are you reading ?',\n",
       "    'i love food too . especially fine dining .',\n",
       "    'what do you like to watch ?',\n",
       "    'i do not have to work anymore , thank goodness',\n",
       "    'no , not really . i am in kansas .',\n",
       "    'i love movies . especially disney .',\n",
       "    'no i do not . what kinds of dogs do you have',\n",
       "    \"they won't , but i'll someday . what are you hobbies ?\",\n",
       "    'i am going to watch football . what are you canning ?'],\n",
       "   'history': [\"hi , how are you doing ? i'm getting ready to do some cheetah chasing to stay in shape .\",\n",
       "    'you must be very fast . hunting is one of my favorite hobbies .',\n",
       "    'i am ! for my hobby i like to do canning or some whittling .',\n",
       "    'i also remodel homes when i am not out bow hunting .',\n",
       "    \"that's neat . when i was in high school i placed 6th in 100m dash !\",\n",
       "    \"that's awesome . do you have a favorite season or time of year ?\",\n",
       "    'i do not . but i do have a favorite meat since that is all i eat exclusively .',\n",
       "    'what is your favorite meat to eat ?',\n",
       "    'i would have to say its prime rib . do you have any favorite foods ?',\n",
       "    'i like chicken or macaroni and cheese .',\n",
       "    'do you have anything planned for today ? i think i am going to do some canning .']},\n",
       "  {'candidates': ['awesome . so what do you do for a living ?',\n",
       "    'you are telling the truth lol',\n",
       "    'haha yea i love cookies . i sleep way to much to . you like music ?',\n",
       "    'that is nice to know . i travel due to being financially stable .',\n",
       "    'i am sure you can . california is full of opportunities .',\n",
       "    \"they're fun . i also wanted to be a rock star as i love the music .\",\n",
       "    'you need a hobby something you can do in small segments at night',\n",
       "    'hi , i love halloween , so what do you like to do for fun ?',\n",
       "    'is that a long movie ? few hours ? that is what i spend at the pool',\n",
       "    'tennis sounds interesting ! yes , i am ! how about you ?',\n",
       "    'very well , thank you . how are you today ?',\n",
       "    'i like a cashier at my bank . i stare at her at a distance to flirt .',\n",
       "    'yes . thank you for the chat .',\n",
       "    'that is super sweet , high school sweetheart kind of thing',\n",
       "    'hey . my favorite color is pink . how about you ?',\n",
       "    \"nice ! i don't go out much because i am busy at my accounting job .\",\n",
       "    \"oh my gosh i don't know what i'd do if i had to get a job !\",\n",
       "    'that would still be buying it online !',\n",
       "    'was okay . dog woke me up and just getting ready for a date .',\n",
       "    'if i have time outside of hunting and remodeling homes . which is not much !'],\n",
       "   'history': [\"hi , how are you doing ? i'm getting ready to do some cheetah chasing to stay in shape .\",\n",
       "    'you must be very fast . hunting is one of my favorite hobbies .',\n",
       "    'i am ! for my hobby i like to do canning or some whittling .',\n",
       "    'i also remodel homes when i am not out bow hunting .',\n",
       "    \"that's neat . when i was in high school i placed 6th in 100m dash !\",\n",
       "    \"that's awesome . do you have a favorite season or time of year ?\",\n",
       "    'i do not . but i do have a favorite meat since that is all i eat exclusively .',\n",
       "    'what is your favorite meat to eat ?',\n",
       "    'i would have to say its prime rib . do you have any favorite foods ?',\n",
       "    'i like chicken or macaroni and cheese .',\n",
       "    'do you have anything planned for today ? i think i am going to do some canning .',\n",
       "    'i am going to watch football . what are you canning ?',\n",
       "    'i think i will can some jam . do you also play footfall for fun ?']}]}"
      ]
     },
     "execution_count": 9,
     "metadata": {},
     "output_type": "execute_result"
    }
   ],
   "source": [
    "# Explore an example\n",
    "train_data[0]"
   ]
  },
  {
   "cell_type": "markdown",
   "metadata": {
    "colab_type": "text",
    "id": "sKgciRTLj4OE"
   },
   "source": [
    "## 2. Train model"
   ]
  },
  {
   "cell_type": "code",
   "execution_count": 12,
   "metadata": {
    "colab": {
     "base_uri": "https://localhost:8080/",
     "height": 34
    },
    "colab_type": "code",
    "executionInfo": {
     "elapsed": 19028,
     "status": "ok",
     "timestamp": 1596615630970,
     "user": {
      "displayName": "ALBERTO GARCIA HERNANDEZ",
      "photoUrl": "https://lh3.googleusercontent.com/a-/AOh14GiwwJ7bnkN_pQE-FRT229YhkoqqMIlbchaWFnyd=s64",
      "userId": "01724357562024416366"
     },
     "user_tz": -120
    },
    "id": "TNE95jTBjJB0",
    "outputId": "2614c076-e5d3-458b-e0d6-25d9a8537973"
   },
   "outputs": [
    {
     "name": "stderr",
     "output_type": "stream",
     "text": [
      "ftfy or spacy is not installed using BERT BasicTokenizer instead of SpaCy & ftfy.\n"
     ]
    }
   ],
   "source": [
    "train_args = {\n",
    "    \"overwrite_output_dir\": True,\n",
    "    \"reprocess_input_data\": True,\n",
    "    \"fp16\":False,\n",
    "    'output_dir': 'outputs/',\n",
    "    'cache_dir': 'cache_dir/'\n",
    "}\n",
    "\n",
    "# Create a ConvAIModel\n",
    "model = ConvAIModel(\"gpt\", \"cache_dir/gpt_personachat_cache\", use_cuda=False, args=train_args)\n"
   ]
  },
  {
   "cell_type": "code",
   "execution_count": 10,
   "metadata": {
    "colab": {
     "base_uri": "https://localhost:8080/",
     "height": 217,
     "referenced_widgets": [
      "8f0dbf80227a4179a3e210b5a65ddf52",
      "84d4443ba8954d30973bba058521badd",
      "7e57b6f57c044e60916567e27612cb3f",
      "8d8019dd362a4fd59956a163dd93bd63",
      "6517a5c9e70340ab9fdcb429cd4623f3",
      "972c4a6ae2d34783be05eef745779043",
      "6dce297c9b1d46fbb5cc6e2bf8d15cde",
      "3a243be661834c47871da56064201893",
      "b2ab85eaed534ea78e8decabc82740c2",
      "c6a180b78c404fa19adfe993599f0b3d",
      "aa350389d95b46c887bdf918c2b103c6",
      "efd74d6a6e814871ad540ab834f77a38",
      "f4d88b52773740e3b3715b02ad34b429",
      "f79a5915d9454d928090e3ca96138335",
      "36f0fb8820f5458e96d5db0c80ae5342",
      "97d9d021e342400990dfd97aa12152c0",
      "cd44a7fb878e44c9bb1aa036751f1563",
      "c49ac9ae3a814abbb54911dca47e9dff",
      "694d259fd05b4455b6bb61e86c3de1c8",
      "15207e39da8d4b2da57e81fa98b670d0",
      "6ae19cbfa6c74edb8ac315dfb839aa36",
      "16920a4841504faf92ba8c72edaea291",
      "921d7be1846146cf908e9690750f123a",
      "451530e834bd4175b8ddee6efe9061e3"
     ]
    },
    "colab_type": "code",
    "executionInfo": {
     "elapsed": 2951085,
     "status": "ok",
     "timestamp": 1596618564959,
     "user": {
      "displayName": "ALBERTO GARCIA HERNANDEZ",
      "photoUrl": "https://lh3.googleusercontent.com/a-/AOh14GiwwJ7bnkN_pQE-FRT229YhkoqqMIlbchaWFnyd=s64",
      "userId": "01724357562024416366"
     },
     "user_tz": -120
    },
    "id": "2Hf9KZoskW5z",
    "outputId": "7eb8863d-311e-47dc-e6f5-9d8f07e2918d"
   },
   "outputs": [
    {
     "data": {
      "application/vnd.jupyter.widget-view+json": {
       "model_id": "8f0dbf80227a4179a3e210b5a65ddf52",
       "version_major": 2,
       "version_minor": 0
      },
      "text/plain": [
       "HBox(children=(FloatProgress(value=0.0), HTML(value='')))"
      ]
     },
     "metadata": {
      "tags": []
     },
     "output_type": "display_data"
    },
    {
     "name": "stdout",
     "output_type": "stream",
     "text": [
      "\n"
     ]
    },
    {
     "data": {
      "application/vnd.jupyter.widget-view+json": {
       "model_id": "b2ab85eaed534ea78e8decabc82740c2",
       "version_major": 2,
       "version_minor": 0
      },
      "text/plain": [
       "HBox(children=(FloatProgress(value=0.0, description='Epoch', max=1.0, style=ProgressStyle(description_width='i…"
      ]
     },
     "metadata": {
      "tags": []
     },
     "output_type": "display_data"
    },
    {
     "data": {
      "application/vnd.jupyter.widget-view+json": {
       "model_id": "cd44a7fb878e44c9bb1aa036751f1563",
       "version_major": 2,
       "version_minor": 0
      },
      "text/plain": [
       "HBox(children=(FloatProgress(value=0.0, description='Running Epoch 0 of 1', max=92.0, style=ProgressStyle(desc…"
      ]
     },
     "metadata": {
      "tags": []
     },
     "output_type": "display_data"
    },
    {
     "name": "stdout",
     "output_type": "stream",
     "text": [
      "Running loss: 4.323026"
     ]
    },
    {
     "name": "stderr",
     "output_type": "stream",
     "text": [
      "/usr/local/lib/python3.6/dist-packages/torch/optim/lr_scheduler.py:231: UserWarning: To get the last learning rate computed by the scheduler, please use `get_last_lr()`.\n",
      "  warnings.warn(\"To get the last learning rate computed by the scheduler, \"\n"
     ]
    },
    {
     "name": "stdout",
     "output_type": "stream",
     "text": [
      "Running loss: 3.997564\n",
      "\n"
     ]
    }
   ],
   "source": [
    "model.train_model(train_file='data/train.json', \n",
    "                  eval_file='data/valid.json')"
   ]
  },
  {
   "cell_type": "markdown",
   "metadata": {
    "colab_type": "text",
    "id": "TodXX7l4oLTW"
   },
   "source": [
    "## 3. Evaluation"
   ]
  },
  {
   "cell_type": "code",
   "execution_count": 14,
   "metadata": {
    "colab": {
     "base_uri": "https://localhost:8080/",
     "height": 34
    },
    "colab_type": "code",
    "executionInfo": {
     "elapsed": 18069,
     "status": "ok",
     "timestamp": 1596618768586,
     "user": {
      "displayName": "ALBERTO GARCIA HERNANDEZ",
      "photoUrl": "https://lh3.googleusercontent.com/a-/AOh14GiwwJ7bnkN_pQE-FRT229YhkoqqMIlbchaWFnyd=s64",
      "userId": "01724357562024416366"
     },
     "user_tz": -120
    },
    "id": "nDwmKCFKvGar",
    "outputId": "4cedb7c6-79b4-41b4-ff64-11a7c0bddcea"
   },
   "outputs": [
    {
     "name": "stderr",
     "output_type": "stream",
     "text": [
      "ftfy or spacy is not installed using BERT BasicTokenizer instead of SpaCy & ftfy.\n"
     ]
    }
   ],
   "source": [
    "train_args = {\n",
    "    \"overwrite_output_dir\": True,\n",
    "    \"reprocess_input_data\": True,\n",
    "    \"fp16\":False,\n",
    "    'output_dir': 'outputs/',\n",
    "    'cache_dir': 'cache_dir/'\n",
    "}\n",
    "\n",
    "model = ConvAIModel(\"gpt\", \"outputs/\", use_cuda=False, args=train_args)"
   ]
  },
  {
   "cell_type": "code",
   "execution_count": null,
   "metadata": {
    "colab": {
     "base_uri": "https://localhost:8080/",
     "height": 858
    },
    "colab_type": "code",
    "executionInfo": {
     "elapsed": 234525,
     "status": "error",
     "timestamp": 1596619101741,
     "user": {
      "displayName": "ALBERTO GARCIA HERNANDEZ",
      "photoUrl": "https://lh3.googleusercontent.com/a-/AOh14GiwwJ7bnkN_pQE-FRT229YhkoqqMIlbchaWFnyd=s64",
      "userId": "01724357562024416366"
     },
     "user_tz": -120
    },
    "id": "_flEHgOtmAkA",
    "outputId": "ee5e6994-37a6-4aa0-c698-9d616eb64fdb"
   },
   "outputs": [
    {
     "name": "stdin",
     "output_type": "stream",
     "text": [
      ">>>  Hello\n"
     ]
    },
    {
     "name": "stdout",
     "output_type": "stream",
     "text": [
      "hello, how are you today?\n"
     ]
    },
    {
     "name": "stdin",
     "output_type": "stream",
     "text": [
      ">>>  Good\n"
     ]
    },
    {
     "name": "stdout",
     "output_type": "stream",
     "text": [
      "i am good, just listening to some classical music. what are you listening to?\n"
     ]
    },
    {
     "name": "stdin",
     "output_type": "stream",
     "text": [
      ">>>  Some hip-hop\n"
     ]
    },
    {
     "name": "stdout",
     "output_type": "stream",
     "text": [
      "i like hip hop. i love listening to it.\n"
     ]
    }
   ],
   "source": [
    "personality =  [\"i like computers .\",\n",
    "                \"i like reading books .\",\n",
    "                \"i like talking to chatbots .\",\n",
    "                \"i love listening to classical music .\"\n",
    "               ]\n",
    "\n",
    "model.interact(personality)"
   ]
  },
  {
   "cell_type": "code",
   "execution_count": null,
   "metadata": {
    "colab": {},
    "colab_type": "code",
    "id": "xfYBHsrstQ67"
   },
   "outputs": [],
   "source": []
  }
 ],
 "metadata": {
  "accelerator": "GPU",
  "colab": {
   "authorship_tag": "ABX9TyOvlNYPbeAoVRTQb7dpULN2",
   "collapsed_sections": [],
   "name": "chatbot.ipynb",
   "provenance": []
  },
  "kernelspec": {
   "display_name": "Python 3",
   "language": "python",
   "name": "python3"
  },
  "language_info": {
   "codemirror_mode": {
    "name": "ipython",
    "version": 3
   },
   "file_extension": ".py",
   "mimetype": "text/x-python",
   "name": "python",
   "nbconvert_exporter": "python",
   "pygments_lexer": "ipython3",
   "version": "3.7.7"
  },
  "widgets": {
   "application/vnd.jupyter.widget-state+json": {
    "15207e39da8d4b2da57e81fa98b670d0": {
     "model_module": "@jupyter-widgets/controls",
     "model_name": "HTMLModel",
     "state": {
      "_dom_classes": [],
      "_model_module": "@jupyter-widgets/controls",
      "_model_module_version": "1.5.0",
      "_model_name": "HTMLModel",
      "_view_count": null,
      "_view_module": "@jupyter-widgets/controls",
      "_view_module_version": "1.5.0",
      "_view_name": "HTMLView",
      "description": "",
      "description_tooltip": null,
      "layout": "IPY_MODEL_451530e834bd4175b8ddee6efe9061e3",
      "placeholder": "​",
      "style": "IPY_MODEL_921d7be1846146cf908e9690750f123a",
      "value": " 92/92 [48:58&lt;00:00, 31.94s/it]"
     }
    },
    "16920a4841504faf92ba8c72edaea291": {
     "model_module": "@jupyter-widgets/base",
     "model_name": "LayoutModel",
     "state": {
      "_model_module": "@jupyter-widgets/base",
      "_model_module_version": "1.2.0",
      "_model_name": "LayoutModel",
      "_view_count": null,
      "_view_module": "@jupyter-widgets/base",
      "_view_module_version": "1.2.0",
      "_view_name": "LayoutView",
      "align_content": null,
      "align_items": null,
      "align_self": null,
      "border": null,
      "bottom": null,
      "display": null,
      "flex": null,
      "flex_flow": null,
      "grid_area": null,
      "grid_auto_columns": null,
      "grid_auto_flow": null,
      "grid_auto_rows": null,
      "grid_column": null,
      "grid_gap": null,
      "grid_row": null,
      "grid_template_areas": null,
      "grid_template_columns": null,
      "grid_template_rows": null,
      "height": null,
      "justify_content": null,
      "justify_items": null,
      "left": null,
      "margin": null,
      "max_height": null,
      "max_width": null,
      "min_height": null,
      "min_width": null,
      "object_fit": null,
      "object_position": null,
      "order": null,
      "overflow": null,
      "overflow_x": null,
      "overflow_y": null,
      "padding": null,
      "right": null,
      "top": null,
      "visibility": null,
      "width": null
     }
    },
    "36f0fb8820f5458e96d5db0c80ae5342": {
     "model_module": "@jupyter-widgets/controls",
     "model_name": "DescriptionStyleModel",
     "state": {
      "_model_module": "@jupyter-widgets/controls",
      "_model_module_version": "1.5.0",
      "_model_name": "DescriptionStyleModel",
      "_view_count": null,
      "_view_module": "@jupyter-widgets/base",
      "_view_module_version": "1.2.0",
      "_view_name": "StyleView",
      "description_width": ""
     }
    },
    "3a243be661834c47871da56064201893": {
     "model_module": "@jupyter-widgets/base",
     "model_name": "LayoutModel",
     "state": {
      "_model_module": "@jupyter-widgets/base",
      "_model_module_version": "1.2.0",
      "_model_name": "LayoutModel",
      "_view_count": null,
      "_view_module": "@jupyter-widgets/base",
      "_view_module_version": "1.2.0",
      "_view_name": "LayoutView",
      "align_content": null,
      "align_items": null,
      "align_self": null,
      "border": null,
      "bottom": null,
      "display": null,
      "flex": null,
      "flex_flow": null,
      "grid_area": null,
      "grid_auto_columns": null,
      "grid_auto_flow": null,
      "grid_auto_rows": null,
      "grid_column": null,
      "grid_gap": null,
      "grid_row": null,
      "grid_template_areas": null,
      "grid_template_columns": null,
      "grid_template_rows": null,
      "height": null,
      "justify_content": null,
      "justify_items": null,
      "left": null,
      "margin": null,
      "max_height": null,
      "max_width": null,
      "min_height": null,
      "min_width": null,
      "object_fit": null,
      "object_position": null,
      "order": null,
      "overflow": null,
      "overflow_x": null,
      "overflow_y": null,
      "padding": null,
      "right": null,
      "top": null,
      "visibility": null,
      "width": null
     }
    },
    "451530e834bd4175b8ddee6efe9061e3": {
     "model_module": "@jupyter-widgets/base",
     "model_name": "LayoutModel",
     "state": {
      "_model_module": "@jupyter-widgets/base",
      "_model_module_version": "1.2.0",
      "_model_name": "LayoutModel",
      "_view_count": null,
      "_view_module": "@jupyter-widgets/base",
      "_view_module_version": "1.2.0",
      "_view_name": "LayoutView",
      "align_content": null,
      "align_items": null,
      "align_self": null,
      "border": null,
      "bottom": null,
      "display": null,
      "flex": null,
      "flex_flow": null,
      "grid_area": null,
      "grid_auto_columns": null,
      "grid_auto_flow": null,
      "grid_auto_rows": null,
      "grid_column": null,
      "grid_gap": null,
      "grid_row": null,
      "grid_template_areas": null,
      "grid_template_columns": null,
      "grid_template_rows": null,
      "height": null,
      "justify_content": null,
      "justify_items": null,
      "left": null,
      "margin": null,
      "max_height": null,
      "max_width": null,
      "min_height": null,
      "min_width": null,
      "object_fit": null,
      "object_position": null,
      "order": null,
      "overflow": null,
      "overflow_x": null,
      "overflow_y": null,
      "padding": null,
      "right": null,
      "top": null,
      "visibility": null,
      "width": null
     }
    },
    "6517a5c9e70340ab9fdcb429cd4623f3": {
     "model_module": "@jupyter-widgets/controls",
     "model_name": "ProgressStyleModel",
     "state": {
      "_model_module": "@jupyter-widgets/controls",
      "_model_module_version": "1.5.0",
      "_model_name": "ProgressStyleModel",
      "_view_count": null,
      "_view_module": "@jupyter-widgets/base",
      "_view_module_version": "1.2.0",
      "_view_name": "StyleView",
      "bar_color": null,
      "description_width": "initial"
     }
    },
    "694d259fd05b4455b6bb61e86c3de1c8": {
     "model_module": "@jupyter-widgets/controls",
     "model_name": "FloatProgressModel",
     "state": {
      "_dom_classes": [],
      "_model_module": "@jupyter-widgets/controls",
      "_model_module_version": "1.5.0",
      "_model_name": "FloatProgressModel",
      "_view_count": null,
      "_view_module": "@jupyter-widgets/controls",
      "_view_module_version": "1.5.0",
      "_view_name": "ProgressView",
      "bar_style": "success",
      "description": "Running Epoch 0 of 1: 100%",
      "description_tooltip": null,
      "layout": "IPY_MODEL_16920a4841504faf92ba8c72edaea291",
      "max": 92,
      "min": 0,
      "orientation": "horizontal",
      "style": "IPY_MODEL_6ae19cbfa6c74edb8ac315dfb839aa36",
      "value": 92
     }
    },
    "6ae19cbfa6c74edb8ac315dfb839aa36": {
     "model_module": "@jupyter-widgets/controls",
     "model_name": "ProgressStyleModel",
     "state": {
      "_model_module": "@jupyter-widgets/controls",
      "_model_module_version": "1.5.0",
      "_model_name": "ProgressStyleModel",
      "_view_count": null,
      "_view_module": "@jupyter-widgets/base",
      "_view_module_version": "1.2.0",
      "_view_name": "StyleView",
      "bar_color": null,
      "description_width": "initial"
     }
    },
    "6dce297c9b1d46fbb5cc6e2bf8d15cde": {
     "model_module": "@jupyter-widgets/controls",
     "model_name": "DescriptionStyleModel",
     "state": {
      "_model_module": "@jupyter-widgets/controls",
      "_model_module_version": "1.5.0",
      "_model_name": "DescriptionStyleModel",
      "_view_count": null,
      "_view_module": "@jupyter-widgets/base",
      "_view_module_version": "1.2.0",
      "_view_name": "StyleView",
      "description_width": ""
     }
    },
    "7e57b6f57c044e60916567e27612cb3f": {
     "model_module": "@jupyter-widgets/controls",
     "model_name": "FloatProgressModel",
     "state": {
      "_dom_classes": [],
      "_model_module": "@jupyter-widgets/controls",
      "_model_module_version": "1.5.0",
      "_model_name": "FloatProgressModel",
      "_view_count": null,
      "_view_module": "@jupyter-widgets/controls",
      "_view_module_version": "1.5.0",
      "_view_name": "ProgressView",
      "bar_style": "success",
      "description": "100%",
      "description_tooltip": null,
      "layout": "IPY_MODEL_972c4a6ae2d34783be05eef745779043",
      "max": 100,
      "min": 0,
      "orientation": "horizontal",
      "style": "IPY_MODEL_6517a5c9e70340ab9fdcb429cd4623f3",
      "value": 100
     }
    },
    "84d4443ba8954d30973bba058521badd": {
     "model_module": "@jupyter-widgets/base",
     "model_name": "LayoutModel",
     "state": {
      "_model_module": "@jupyter-widgets/base",
      "_model_module_version": "1.2.0",
      "_model_name": "LayoutModel",
      "_view_count": null,
      "_view_module": "@jupyter-widgets/base",
      "_view_module_version": "1.2.0",
      "_view_name": "LayoutView",
      "align_content": null,
      "align_items": null,
      "align_self": null,
      "border": null,
      "bottom": null,
      "display": null,
      "flex": null,
      "flex_flow": null,
      "grid_area": null,
      "grid_auto_columns": null,
      "grid_auto_flow": null,
      "grid_auto_rows": null,
      "grid_column": null,
      "grid_gap": null,
      "grid_row": null,
      "grid_template_areas": null,
      "grid_template_columns": null,
      "grid_template_rows": null,
      "height": null,
      "justify_content": null,
      "justify_items": null,
      "left": null,
      "margin": null,
      "max_height": null,
      "max_width": null,
      "min_height": null,
      "min_width": null,
      "object_fit": null,
      "object_position": null,
      "order": null,
      "overflow": null,
      "overflow_x": null,
      "overflow_y": null,
      "padding": null,
      "right": null,
      "top": null,
      "visibility": null,
      "width": null
     }
    },
    "8d8019dd362a4fd59956a163dd93bd63": {
     "model_module": "@jupyter-widgets/controls",
     "model_name": "HTMLModel",
     "state": {
      "_dom_classes": [],
      "_model_module": "@jupyter-widgets/controls",
      "_model_module_version": "1.5.0",
      "_model_name": "HTMLModel",
      "_view_count": null,
      "_view_module": "@jupyter-widgets/controls",
      "_view_module_version": "1.5.0",
      "_view_name": "HTMLView",
      "description": "",
      "description_tooltip": null,
      "layout": "IPY_MODEL_3a243be661834c47871da56064201893",
      "placeholder": "​",
      "style": "IPY_MODEL_6dce297c9b1d46fbb5cc6e2bf8d15cde",
      "value": " 100/100 [49:01&lt;00:00, 29.42s/it]"
     }
    },
    "8f0dbf80227a4179a3e210b5a65ddf52": {
     "model_module": "@jupyter-widgets/controls",
     "model_name": "HBoxModel",
     "state": {
      "_dom_classes": [],
      "_model_module": "@jupyter-widgets/controls",
      "_model_module_version": "1.5.0",
      "_model_name": "HBoxModel",
      "_view_count": null,
      "_view_module": "@jupyter-widgets/controls",
      "_view_module_version": "1.5.0",
      "_view_name": "HBoxView",
      "box_style": "",
      "children": [
       "IPY_MODEL_7e57b6f57c044e60916567e27612cb3f",
       "IPY_MODEL_8d8019dd362a4fd59956a163dd93bd63"
      ],
      "layout": "IPY_MODEL_84d4443ba8954d30973bba058521badd"
     }
    },
    "921d7be1846146cf908e9690750f123a": {
     "model_module": "@jupyter-widgets/controls",
     "model_name": "DescriptionStyleModel",
     "state": {
      "_model_module": "@jupyter-widgets/controls",
      "_model_module_version": "1.5.0",
      "_model_name": "DescriptionStyleModel",
      "_view_count": null,
      "_view_module": "@jupyter-widgets/base",
      "_view_module_version": "1.2.0",
      "_view_name": "StyleView",
      "description_width": ""
     }
    },
    "972c4a6ae2d34783be05eef745779043": {
     "model_module": "@jupyter-widgets/base",
     "model_name": "LayoutModel",
     "state": {
      "_model_module": "@jupyter-widgets/base",
      "_model_module_version": "1.2.0",
      "_model_name": "LayoutModel",
      "_view_count": null,
      "_view_module": "@jupyter-widgets/base",
      "_view_module_version": "1.2.0",
      "_view_name": "LayoutView",
      "align_content": null,
      "align_items": null,
      "align_self": null,
      "border": null,
      "bottom": null,
      "display": null,
      "flex": null,
      "flex_flow": null,
      "grid_area": null,
      "grid_auto_columns": null,
      "grid_auto_flow": null,
      "grid_auto_rows": null,
      "grid_column": null,
      "grid_gap": null,
      "grid_row": null,
      "grid_template_areas": null,
      "grid_template_columns": null,
      "grid_template_rows": null,
      "height": null,
      "justify_content": null,
      "justify_items": null,
      "left": null,
      "margin": null,
      "max_height": null,
      "max_width": null,
      "min_height": null,
      "min_width": null,
      "object_fit": null,
      "object_position": null,
      "order": null,
      "overflow": null,
      "overflow_x": null,
      "overflow_y": null,
      "padding": null,
      "right": null,
      "top": null,
      "visibility": null,
      "width": null
     }
    },
    "97d9d021e342400990dfd97aa12152c0": {
     "model_module": "@jupyter-widgets/base",
     "model_name": "LayoutModel",
     "state": {
      "_model_module": "@jupyter-widgets/base",
      "_model_module_version": "1.2.0",
      "_model_name": "LayoutModel",
      "_view_count": null,
      "_view_module": "@jupyter-widgets/base",
      "_view_module_version": "1.2.0",
      "_view_name": "LayoutView",
      "align_content": null,
      "align_items": null,
      "align_self": null,
      "border": null,
      "bottom": null,
      "display": null,
      "flex": null,
      "flex_flow": null,
      "grid_area": null,
      "grid_auto_columns": null,
      "grid_auto_flow": null,
      "grid_auto_rows": null,
      "grid_column": null,
      "grid_gap": null,
      "grid_row": null,
      "grid_template_areas": null,
      "grid_template_columns": null,
      "grid_template_rows": null,
      "height": null,
      "justify_content": null,
      "justify_items": null,
      "left": null,
      "margin": null,
      "max_height": null,
      "max_width": null,
      "min_height": null,
      "min_width": null,
      "object_fit": null,
      "object_position": null,
      "order": null,
      "overflow": null,
      "overflow_x": null,
      "overflow_y": null,
      "padding": null,
      "right": null,
      "top": null,
      "visibility": null,
      "width": null
     }
    },
    "aa350389d95b46c887bdf918c2b103c6": {
     "model_module": "@jupyter-widgets/controls",
     "model_name": "FloatProgressModel",
     "state": {
      "_dom_classes": [],
      "_model_module": "@jupyter-widgets/controls",
      "_model_module_version": "1.5.0",
      "_model_name": "FloatProgressModel",
      "_view_count": null,
      "_view_module": "@jupyter-widgets/controls",
      "_view_module_version": "1.5.0",
      "_view_name": "ProgressView",
      "bar_style": "success",
      "description": "Epoch 1 of 1: 100%",
      "description_tooltip": null,
      "layout": "IPY_MODEL_f79a5915d9454d928090e3ca96138335",
      "max": 1,
      "min": 0,
      "orientation": "horizontal",
      "style": "IPY_MODEL_f4d88b52773740e3b3715b02ad34b429",
      "value": 1
     }
    },
    "b2ab85eaed534ea78e8decabc82740c2": {
     "model_module": "@jupyter-widgets/controls",
     "model_name": "HBoxModel",
     "state": {
      "_dom_classes": [],
      "_model_module": "@jupyter-widgets/controls",
      "_model_module_version": "1.5.0",
      "_model_name": "HBoxModel",
      "_view_count": null,
      "_view_module": "@jupyter-widgets/controls",
      "_view_module_version": "1.5.0",
      "_view_name": "HBoxView",
      "box_style": "",
      "children": [
       "IPY_MODEL_aa350389d95b46c887bdf918c2b103c6",
       "IPY_MODEL_efd74d6a6e814871ad540ab834f77a38"
      ],
      "layout": "IPY_MODEL_c6a180b78c404fa19adfe993599f0b3d"
     }
    },
    "c49ac9ae3a814abbb54911dca47e9dff": {
     "model_module": "@jupyter-widgets/base",
     "model_name": "LayoutModel",
     "state": {
      "_model_module": "@jupyter-widgets/base",
      "_model_module_version": "1.2.0",
      "_model_name": "LayoutModel",
      "_view_count": null,
      "_view_module": "@jupyter-widgets/base",
      "_view_module_version": "1.2.0",
      "_view_name": "LayoutView",
      "align_content": null,
      "align_items": null,
      "align_self": null,
      "border": null,
      "bottom": null,
      "display": null,
      "flex": null,
      "flex_flow": null,
      "grid_area": null,
      "grid_auto_columns": null,
      "grid_auto_flow": null,
      "grid_auto_rows": null,
      "grid_column": null,
      "grid_gap": null,
      "grid_row": null,
      "grid_template_areas": null,
      "grid_template_columns": null,
      "grid_template_rows": null,
      "height": null,
      "justify_content": null,
      "justify_items": null,
      "left": null,
      "margin": null,
      "max_height": null,
      "max_width": null,
      "min_height": null,
      "min_width": null,
      "object_fit": null,
      "object_position": null,
      "order": null,
      "overflow": null,
      "overflow_x": null,
      "overflow_y": null,
      "padding": null,
      "right": null,
      "top": null,
      "visibility": null,
      "width": null
     }
    },
    "c6a180b78c404fa19adfe993599f0b3d": {
     "model_module": "@jupyter-widgets/base",
     "model_name": "LayoutModel",
     "state": {
      "_model_module": "@jupyter-widgets/base",
      "_model_module_version": "1.2.0",
      "_model_name": "LayoutModel",
      "_view_count": null,
      "_view_module": "@jupyter-widgets/base",
      "_view_module_version": "1.2.0",
      "_view_name": "LayoutView",
      "align_content": null,
      "align_items": null,
      "align_self": null,
      "border": null,
      "bottom": null,
      "display": null,
      "flex": null,
      "flex_flow": null,
      "grid_area": null,
      "grid_auto_columns": null,
      "grid_auto_flow": null,
      "grid_auto_rows": null,
      "grid_column": null,
      "grid_gap": null,
      "grid_row": null,
      "grid_template_areas": null,
      "grid_template_columns": null,
      "grid_template_rows": null,
      "height": null,
      "justify_content": null,
      "justify_items": null,
      "left": null,
      "margin": null,
      "max_height": null,
      "max_width": null,
      "min_height": null,
      "min_width": null,
      "object_fit": null,
      "object_position": null,
      "order": null,
      "overflow": null,
      "overflow_x": null,
      "overflow_y": null,
      "padding": null,
      "right": null,
      "top": null,
      "visibility": null,
      "width": null
     }
    },
    "cd44a7fb878e44c9bb1aa036751f1563": {
     "model_module": "@jupyter-widgets/controls",
     "model_name": "HBoxModel",
     "state": {
      "_dom_classes": [],
      "_model_module": "@jupyter-widgets/controls",
      "_model_module_version": "1.5.0",
      "_model_name": "HBoxModel",
      "_view_count": null,
      "_view_module": "@jupyter-widgets/controls",
      "_view_module_version": "1.5.0",
      "_view_name": "HBoxView",
      "box_style": "",
      "children": [
       "IPY_MODEL_694d259fd05b4455b6bb61e86c3de1c8",
       "IPY_MODEL_15207e39da8d4b2da57e81fa98b670d0"
      ],
      "layout": "IPY_MODEL_c49ac9ae3a814abbb54911dca47e9dff"
     }
    },
    "efd74d6a6e814871ad540ab834f77a38": {
     "model_module": "@jupyter-widgets/controls",
     "model_name": "HTMLModel",
     "state": {
      "_dom_classes": [],
      "_model_module": "@jupyter-widgets/controls",
      "_model_module_version": "1.5.0",
      "_model_name": "HTMLModel",
      "_view_count": null,
      "_view_module": "@jupyter-widgets/controls",
      "_view_module_version": "1.5.0",
      "_view_name": "HTMLView",
      "description": "",
      "description_tooltip": null,
      "layout": "IPY_MODEL_97d9d021e342400990dfd97aa12152c0",
      "placeholder": "​",
      "style": "IPY_MODEL_36f0fb8820f5458e96d5db0c80ae5342",
      "value": " 1/1 [48:58&lt;00:00, 2938.78s/it]"
     }
    },
    "f4d88b52773740e3b3715b02ad34b429": {
     "model_module": "@jupyter-widgets/controls",
     "model_name": "ProgressStyleModel",
     "state": {
      "_model_module": "@jupyter-widgets/controls",
      "_model_module_version": "1.5.0",
      "_model_name": "ProgressStyleModel",
      "_view_count": null,
      "_view_module": "@jupyter-widgets/base",
      "_view_module_version": "1.2.0",
      "_view_name": "StyleView",
      "bar_color": null,
      "description_width": "initial"
     }
    },
    "f79a5915d9454d928090e3ca96138335": {
     "model_module": "@jupyter-widgets/base",
     "model_name": "LayoutModel",
     "state": {
      "_model_module": "@jupyter-widgets/base",
      "_model_module_version": "1.2.0",
      "_model_name": "LayoutModel",
      "_view_count": null,
      "_view_module": "@jupyter-widgets/base",
      "_view_module_version": "1.2.0",
      "_view_name": "LayoutView",
      "align_content": null,
      "align_items": null,
      "align_self": null,
      "border": null,
      "bottom": null,
      "display": null,
      "flex": null,
      "flex_flow": null,
      "grid_area": null,
      "grid_auto_columns": null,
      "grid_auto_flow": null,
      "grid_auto_rows": null,
      "grid_column": null,
      "grid_gap": null,
      "grid_row": null,
      "grid_template_areas": null,
      "grid_template_columns": null,
      "grid_template_rows": null,
      "height": null,
      "justify_content": null,
      "justify_items": null,
      "left": null,
      "margin": null,
      "max_height": null,
      "max_width": null,
      "min_height": null,
      "min_width": null,
      "object_fit": null,
      "object_position": null,
      "order": null,
      "overflow": null,
      "overflow_x": null,
      "overflow_y": null,
      "padding": null,
      "right": null,
      "top": null,
      "visibility": null,
      "width": null
     }
    }
   }
  }
 },
 "nbformat": 4,
 "nbformat_minor": 4
}
